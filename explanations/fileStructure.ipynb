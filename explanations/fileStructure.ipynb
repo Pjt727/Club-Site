{
 "cells": [
  {
   "attachments": {},
   "cell_type": "markdown",
   "metadata": {},
   "source": [
    "# File Hierarchy\n",
    "\\*will change"
   ]
  },
  {
   "attachments": {},
   "cell_type": "markdown",
   "metadata": {},
   "source": [
    "- project/\n",
    "    - club/\n",
    "        - club/\n",
    "            - \\_\\_init\\_\\_.py\n",
    "            - asgi.py\n",
    "            - settings.py\n",
    "            - urls.py\n",
    "            - wsgi.py\n",
    "        - chat/\n",
    "            - \\_\\_init\\_\\_.py\n",
    "            - forms.py\n",
    "            - models.py\n",
    "            - views.py\n",
    "        - manage.py\n",
    "    - .gitattributes\n",
    "    - .gitignore\n",
    "    - README.md\n",
    "    - requirements.txt\n"
   ]
  },
  {
   "attachments": {},
   "cell_type": "markdown",
   "metadata": {},
   "source": [
    "## Short Summary/ explanations"
   ]
  },
  {
   "attachments": {},
   "cell_type": "markdown",
   "metadata": {},
   "source": [
    "**project/** - whatever folder you put this project in\n",
    "\n",
    "**club/** - contains the django files for the website\n",
    "\n",
    "**club/club/** - contains the settings for the website (probably not great to have duplicate name but idk it did it this way when I ran the starter code for the project)\n",
    "\n",
    "**club/club/settings.py** - has important variables which define where the website will look for certain files \n",
    "\n",
    "**club/club/urls** - contains the different urls that the website can direct to\n",
    "\n",
    "**club/chat/** - contains information that defines a particular component of the website (in this case various chat features)\n",
    "\n",
    "**club/chat/forms.py** - [django forms](https://docs.djangoproject.com/en/4.1/topics/forms/) allow for an easy way to display and retrieve information from the website\n",
    "\n",
    "**club/chat/models.py** - models for the database that revolve around the chat functions\n",
    "\n",
    "**club/chat/views.py** - defines the view for a particular url (this gets accessed when the user or something else goes that particular url)"
   ]
  }
 ],
 "metadata": {
  "kernelspec": {
   "display_name": "Python 3",
   "language": "python",
   "name": "python3"
  },
  "language_info": {
   "name": "python",
   "version": "3.11.2"
  },
  "orig_nbformat": 4,
  "vscode": {
   "interpreter": {
    "hash": "92ee779bae9b877c5156e5245480e694e228b94e9e840708f11574b5cbae7f86"
   }
  }
 },
 "nbformat": 4,
 "nbformat_minor": 2
}
